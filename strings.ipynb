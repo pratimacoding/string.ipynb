{
 "cells": [
  {
   "cell_type": "markdown",
   "metadata": {},
   "source": [
    "String"
   ]
  },
  {
   "cell_type": "code",
   "execution_count": null,
   "metadata": {},
   "outputs": [],
   "source": [
    "a = \"pratima\"\n",
    "print(a)\n",
    "print(type(a))"
   ]
  },
  {
   "cell_type": "code",
   "execution_count": 1,
   "metadata": {},
   "outputs": [
    {
     "name": "stdout",
     "output_type": "stream",
     "text": [
      "brocolli\n",
      "<class 'str'>\n"
     ]
    }
   ],
   "source": [
    "b = \"brocolli\"\n",
    "print(b)\n",
    "print(type(b))"
   ]
  },
  {
   "cell_type": "code",
   "execution_count": 2,
   "metadata": {},
   "outputs": [
    {
     "name": "stdout",
     "output_type": "stream",
     "text": [
      "The monester was 20' feet tall\n"
     ]
    }
   ],
   "source": [
    "c =  \"The monester was 20' feet tall\"\n",
    "print(c)"
   ]
  },
  {
   "cell_type": "code",
   "execution_count": 1,
   "metadata": {},
   "outputs": [
    {
     "name": "stdout",
     "output_type": "stream",
     "text": [
      "i shrank the monester to 1\" by my shrinking gun\n"
     ]
    }
   ],
   "source": [
    "c = 'i shrank the monester to 1\" by my shrinking gun'\n",
    "print(c)"
   ]
  },
  {
   "cell_type": "code",
   "execution_count": 2,
   "metadata": {},
   "outputs": [
    {
     "name": "stdout",
     "output_type": "stream",
     "text": [
      "brocolli broclly brocolli\n",
      "brocolli brocolli\n"
     ]
    }
   ],
   "source": [
    "d = \"\"\"brocolli broclly brocolli\n",
    "brocolli brocolli\"\"\"\n",
    "print(d)"
   ]
  },
  {
   "cell_type": "markdown",
   "metadata": {},
   "source": [
    "String-> with you need to know\n",
    "\n",
    "\n",
    "1. indexing in string\n",
    "2. functions"
   ]
  },
  {
   "cell_type": "code",
   "execution_count": 4,
   "metadata": {},
   "outputs": [
    {
     "name": "stdout",
     "output_type": "stream",
     "text": [
      "str = digipodium\n",
      "str[0] =  d\n",
      "str[1] =  i\n",
      "str[1] =  m\n"
     ]
    }
   ],
   "source": [
    "# Accessing string characters in python\n",
    "str = 'digipodium'\n",
    "print('str =', str)\n",
    "\n",
    "# first character\n",
    "print('str[0] = ', str[0])\n",
    "\n",
    "# second character\n",
    "print('str[1] = ', str[1])\n",
    "\n",
    "# last character\n",
    "print('str[1] = ', str[-1])"
   ]
  },
  {
   "cell_type": "code",
   "execution_count": 3,
   "metadata": {},
   "outputs": [],
   "source": [
    "name = \"pratima\""
   ]
  },
  {
   "cell_type": "code",
   "execution_count": 4,
   "metadata": {},
   "outputs": [
    {
     "data": {
      "text/plain": [
       "'m'"
      ]
     },
     "execution_count": 4,
     "metadata": {},
     "output_type": "execute_result"
    }
   ],
   "source": [
    "name[-2]"
   ]
  },
  {
   "cell_type": "code",
   "execution_count": 5,
   "metadata": {},
   "outputs": [
    {
     "data": {
      "text/plain": [
       "'prat'"
      ]
     },
     "execution_count": 5,
     "metadata": {},
     "output_type": "execute_result"
    }
   ],
   "source": [
    "name[0]+ name[1] + name[2] + name[3]"
   ]
  },
  {
   "cell_type": "markdown",
   "metadata": {},
   "source": [
    "string(slicing)"
   ]
  },
  {
   "cell_type": "code",
   "execution_count": 5,
   "metadata": {},
   "outputs": [
    {
     "name": "stdout",
     "output_type": "stream",
     "text": [
      "pod\n"
     ]
    }
   ],
   "source": [
    "# getting a slice\n",
    "s = 'digipodium'\n",
    "slice1 =  s[4:7]\n",
    "print(slice1)"
   ]
  },
  {
   "cell_type": "code",
   "execution_count": 6,
   "metadata": {},
   "outputs": [
    {
     "data": {
      "text/plain": [
       "'tima'"
      ]
     },
     "execution_count": 6,
     "metadata": {},
     "output_type": "execute_result"
    }
   ],
   "source": [
    "name[3:7]"
   ]
  },
  {
   "cell_type": "code",
   "execution_count": 7,
   "metadata": {},
   "outputs": [
    {
     "data": {
      "text/plain": [
       "''"
      ]
     },
     "execution_count": 7,
     "metadata": {},
     "output_type": "execute_result"
    }
   ],
   "source": [
    "name[-1:-7]"
   ]
  },
  {
   "cell_type": "code",
   "execution_count": 10,
   "metadata": {},
   "outputs": [
    {
     "name": "stdout",
     "output_type": "stream",
     "text": [
      "podium\n",
      "podium\n"
     ]
    }
   ],
   "source": [
    "# getting a slice\n",
    "s = 'digipodium'\n",
    "slice1 =  s[4:len(s)]\n",
    "slice2 =  s[4:]\n",
    "print(slice1)\n",
    "print(slice2)"
   ]
  },
  {
   "cell_type": "markdown",
   "metadata": {},
   "source": [
    "bultin function for string"
   ]
  },
  {
   "cell_type": "code",
   "execution_count": 11,
   "metadata": {},
   "outputs": [
    {
     "name": "stdout",
     "output_type": "stream",
     "text": [
      "A\n",
      "ऽ\n",
      "き\n"
     ]
    }
   ],
   "source": [
    "x = chr(65)\n",
    "print(x)\n",
    "x = chr(2365)\n",
    "print(x)\n",
    "x = chr(12365)\n",
    "print(x)"
   ]
  },
  {
   "cell_type": "code",
   "execution_count": 1,
   "metadata": {},
   "outputs": [
    {
     "name": "stdout",
     "output_type": "stream",
     "text": [
      "65\n",
      "97\n",
      "123\n"
     ]
    }
   ],
   "source": [
    "y = ord('A')\n",
    "print(y)\n",
    "y = ord('a')\n",
    "print(y)\n",
    "y = ord('{')\n",
    "print(y)"
   ]
  },
  {
   "cell_type": "code",
   "execution_count": 2,
   "metadata": {},
   "outputs": [
    {
     "name": "stdout",
     "output_type": "stream",
     "text": [
      "0 : \u0000 1000\n",
      "1 : \u0001 2 : \u0002 3 : \u0003 4 : \u0004 5 : \u0005 6 : \u0006 7 : \u0007 8 : 9 : \t 10 : \n",
      " 1000\n",
      " 14 : \u000e 15 : \u000f 16 : \u0010 17 : \u0011 18 : \u0012 19 : \u0013 20 : \u0014 1000\n",
      "21 : \u0015 22 : \u0016 23 : \u0017 24 : \u0018 25 : \u0019 26 : \u001a 27 : \u001b 28 : \u001c 29 : \u001d 30 : \u001e 1000\n",
      "31 : \u001f 32 :   33 : ! 34 : \" 35 : # 36 : $ 37 : % 38 : & 39 : ' 40 : ( 1000\n",
      "41 : ) 42 : * 43 : + 44 : , 45 : - 46 : . 47 : / 48 : 0 49 : 1 50 : 2 1000\n",
      "51 : 3 52 : 4 53 : 5 54 : 6 55 : 7 56 : 8 57 : 9 58 : : 59 : ; 60 : < 1000\n",
      "61 : = 62 : > 63 : ? 64 : @ 65 : A 66 : B 67 : C 68 : D 69 : E 70 : F 1000\n",
      "71 : G 72 : H 73 : I 74 : J 75 : K 76 : L 77 : M 78 : N 79 : O 80 : P 1000\n",
      "81 : Q 82 : R 83 : S 84 : T 85 : U 86 : V 87 : W 88 : X 89 : Y 90 : Z 1000\n",
      "91 : [ 92 : \\ 93 : ] 94 : ^ 95 : _ 96 : ` 97 : a 98 : b 99 : c 100 : d 1000\n",
      "101 : e 102 : f 103 : g 104 : h 105 : i 106 : j 107 : k 108 : l 109 : m 110 : n 1000\n",
      "111 : o 112 : p 113 : q 114 : r 115 : s 116 : t 117 : u 118 : v 119 : w 120 : x 1000\n",
      "121 : y 122 : z 123 : { 124 : | 125 : } 126 : ~ 127 :  128 :  129 :  130 :  1000\n",
      "131 :  132 :  133 :  134 :  135 :  136 :  137 :  138 :  139 :  140 :  1000\n",
      "141 :  142 :  143 :  144 :  145 :  146 :  147 :  148 :  149 :  150 :  1000\n",
      "151 :  152 :  153 :  154 :  155 :  156 :  157 :  158 :  159 :  160 :   1000\n",
      "161 : ¡ 162 : ¢ 163 : £ 164 : ¤ 165 : ¥ 166 : ¦ 167 : § 168 : ¨ 169 : © 170 : ª 1000\n",
      "171 : « 172 : ¬ 173 : ­ 174 : ® 175 : ¯ 176 : ° 177 : ± 178 : ² 179 : ³ 180 : ´ 1000\n",
      "181 : µ 182 : ¶ 183 : · 184 : ¸ 185 : ¹ 186 : º 187 : » 188 : ¼ 189 : ½ 190 : ¾ 1000\n",
      "191 : ¿ 192 : À 193 : Á 194 : Â 195 : Ã 196 : Ä 197 : Å 198 : Æ 199 : Ç 200 : È 1000\n",
      "201 : É 202 : Ê 203 : Ë 204 : Ì 205 : Í 206 : Î 207 : Ï 208 : Ð 209 : Ñ 210 : Ò 1000\n",
      "211 : Ó 212 : Ô 213 : Õ 214 : Ö 215 : × 216 : Ø 217 : Ù 218 : Ú 219 : Û 220 : Ü 1000\n",
      "221 : Ý 222 : Þ 223 : ß 224 : à 225 : á 226 : â 227 : ã 228 : ä 229 : å 230 : æ 1000\n",
      "231 : ç 232 : è 233 : é 234 : ê 235 : ë 236 : ì 237 : í 238 : î 239 : ï 240 : ð 1000\n",
      "241 : ñ 242 : ò 243 : ó 244 : ô 245 : õ 246 : ö 247 : ÷ 248 : ø 249 : ù 250 : ú 1000\n",
      "251 : û 252 : ü 253 : ý 254 : þ 255 : ÿ 256 : Ā 257 : ā 258 : Ă 259 : ă 260 : Ą 1000\n",
      "261 : ą 262 : Ć 263 : ć 264 : Ĉ 265 : ĉ 266 : Ċ 267 : ċ 268 : Č 269 : č 270 : Ď 1000\n",
      "271 : ď 272 : Đ 273 : đ 274 : Ē 275 : ē 276 : Ĕ 277 : ĕ 278 : Ė 279 : ė 280 : Ę 1000\n",
      "281 : ę 282 : Ě 283 : ě 284 : Ĝ 285 : ĝ 286 : Ğ 287 : ğ 288 : Ġ 289 : ġ 290 : Ģ 1000\n",
      "291 : ģ 292 : Ĥ 293 : ĥ 294 : Ħ 295 : ħ 296 : Ĩ 297 : ĩ 298 : Ī 299 : ī 300 : Ĭ 1000\n",
      "301 : ĭ 302 : Į 303 : į 304 : İ 305 : ı 306 : Ĳ 307 : ĳ 308 : Ĵ 309 : ĵ 310 : Ķ 1000\n",
      "311 : ķ 312 : ĸ 313 : Ĺ 314 : ĺ 315 : Ļ 316 : ļ 317 : Ľ 318 : ľ 319 : Ŀ 320 : ŀ 1000\n",
      "321 : Ł 322 : ł 323 : Ń 324 : ń 325 : Ņ 326 : ņ 327 : Ň 328 : ň 329 : ŉ 330 : Ŋ 1000\n",
      "331 : ŋ 332 : Ō 333 : ō 334 : Ŏ 335 : ŏ 336 : Ő 337 : ő 338 : Œ 339 : œ 340 : Ŕ 1000\n",
      "341 : ŕ 342 : Ŗ 343 : ŗ 344 : Ř 345 : ř 346 : Ś 347 : ś 348 : Ŝ 349 : ŝ 350 : Ş 1000\n",
      "351 : ş 352 : Š 353 : š 354 : Ţ 355 : ţ 356 : Ť 357 : ť 358 : Ŧ 359 : ŧ 360 : Ũ 1000\n",
      "361 : ũ 362 : Ū 363 : ū 364 : Ŭ 365 : ŭ 366 : Ů 367 : ů 368 : Ű 369 : ű 370 : Ų 1000\n",
      "371 : ų 372 : Ŵ 373 : ŵ 374 : Ŷ 375 : ŷ 376 : Ÿ 377 : Ź 378 : ź 379 : Ż 380 : ż 1000\n",
      "381 : Ž 382 : ž 383 : ſ 384 : ƀ 385 : Ɓ 386 : Ƃ 387 : ƃ 388 : Ƅ 389 : ƅ 390 : Ɔ 1000\n",
      "391 : Ƈ 392 : ƈ 393 : Ɖ 394 : Ɗ 395 : Ƌ 396 : ƌ 397 : ƍ 398 : Ǝ 399 : Ə 400 : Ɛ 1000\n",
      "401 : Ƒ 402 : ƒ 403 : Ɠ 404 : Ɣ 405 : ƕ 406 : Ɩ 407 : Ɨ 408 : Ƙ 409 : ƙ 410 : ƚ 1000\n",
      "411 : ƛ 412 : Ɯ 413 : Ɲ 414 : ƞ 415 : Ɵ 416 : Ơ 417 : ơ 418 : Ƣ 419 : ƣ 420 : Ƥ 1000\n",
      "421 : ƥ 422 : Ʀ 423 : Ƨ 424 : ƨ 425 : Ʃ 426 : ƪ 427 : ƫ 428 : Ƭ 429 : ƭ 430 : Ʈ 1000\n",
      "431 : Ư 432 : ư 433 : Ʊ 434 : Ʋ 435 : Ƴ 436 : ƴ 437 : Ƶ 438 : ƶ 439 : Ʒ 440 : Ƹ 1000\n",
      "441 : ƹ 442 : ƺ 443 : ƻ 444 : Ƽ 445 : ƽ 446 : ƾ 447 : ƿ 448 : ǀ 449 : ǁ 450 : ǂ 1000\n",
      "451 : ǃ 452 : Ǆ 453 : ǅ 454 : ǆ 455 : Ǉ 456 : ǈ 457 : ǉ 458 : Ǌ 459 : ǋ 460 : ǌ 1000\n",
      "461 : Ǎ 462 : ǎ 463 : Ǐ 464 : ǐ 465 : Ǒ 466 : ǒ 467 : Ǔ 468 : ǔ 469 : Ǖ 470 : ǖ 1000\n",
      "471 : Ǘ 472 : ǘ 473 : Ǚ 474 : ǚ 475 : Ǜ 476 : ǜ 477 : ǝ 478 : Ǟ 479 : ǟ 480 : Ǡ 1000\n",
      "481 : ǡ 482 : Ǣ 483 : ǣ 484 : Ǥ 485 : ǥ 486 : Ǧ 487 : ǧ 488 : Ǩ 489 : ǩ 490 : Ǫ 1000\n",
      "491 : ǫ 492 : Ǭ 493 : ǭ 494 : Ǯ 495 : ǯ 496 : ǰ 497 : Ǳ 498 : ǲ 499 : ǳ 500 : Ǵ 1000\n",
      "501 : ǵ 502 : Ƕ 503 : Ƿ 504 : Ǹ 505 : ǹ 506 : Ǻ 507 : ǻ 508 : Ǽ 509 : ǽ 510 : Ǿ 1000\n",
      "511 : ǿ 512 : Ȁ 513 : ȁ 514 : Ȃ 515 : ȃ 516 : Ȅ 517 : ȅ 518 : Ȇ 519 : ȇ 520 : Ȉ 1000\n",
      "521 : ȉ 522 : Ȋ 523 : ȋ 524 : Ȍ 525 : ȍ 526 : Ȏ 527 : ȏ 528 : Ȑ 529 : ȑ 530 : Ȓ 1000\n",
      "531 : ȓ 532 : Ȕ 533 : ȕ 534 : Ȗ 535 : ȗ 536 : Ș 537 : ș 538 : Ț 539 : ț 540 : Ȝ 1000\n",
      "541 : ȝ 542 : Ȟ 543 : ȟ 544 : Ƞ 545 : ȡ 546 : Ȣ 547 : ȣ 548 : Ȥ 549 : ȥ 550 : Ȧ 1000\n",
      "551 : ȧ 552 : Ȩ 553 : ȩ 554 : Ȫ 555 : ȫ 556 : Ȭ 557 : ȭ 558 : Ȯ 559 : ȯ 560 : Ȱ 1000\n",
      "561 : ȱ 562 : Ȳ 563 : ȳ 564 : ȴ 565 : ȵ 566 : ȶ 567 : ȷ 568 : ȸ 569 : ȹ 570 : Ⱥ 1000\n",
      "571 : Ȼ 572 : ȼ 573 : Ƚ 574 : Ⱦ 575 : ȿ 576 : ɀ 577 : Ɂ 578 : ɂ 579 : Ƀ 580 : Ʉ 1000\n",
      "581 : Ʌ 582 : Ɇ 583 : ɇ 584 : Ɉ 585 : ɉ 586 : Ɋ 587 : ɋ 588 : Ɍ 589 : ɍ 590 : Ɏ 1000\n",
      "591 : ɏ 592 : ɐ 593 : ɑ 594 : ɒ 595 : ɓ 596 : ɔ 597 : ɕ 598 : ɖ 599 : ɗ 600 : ɘ 1000\n",
      "601 : ə 602 : ɚ 603 : ɛ 604 : ɜ 605 : ɝ 606 : ɞ 607 : ɟ 608 : ɠ 609 : ɡ 610 : ɢ 1000\n",
      "611 : ɣ 612 : ɤ 613 : ɥ 614 : ɦ 615 : ɧ 616 : ɨ 617 : ɩ 618 : ɪ 619 : ɫ 620 : ɬ 1000\n",
      "621 : ɭ 622 : ɮ 623 : ɯ 624 : ɰ 625 : ɱ 626 : ɲ 627 : ɳ 628 : ɴ 629 : ɵ 630 : ɶ 1000\n",
      "631 : ɷ 632 : ɸ 633 : ɹ 634 : ɺ 635 : ɻ 636 : ɼ 637 : ɽ 638 : ɾ 639 : ɿ 640 : ʀ 1000\n",
      "641 : ʁ 642 : ʂ 643 : ʃ 644 : ʄ 645 : ʅ 646 : ʆ 647 : ʇ 648 : ʈ 649 : ʉ 650 : ʊ 1000\n",
      "651 : ʋ 652 : ʌ 653 : ʍ 654 : ʎ 655 : ʏ 656 : ʐ 657 : ʑ 658 : ʒ 659 : ʓ 660 : ʔ 1000\n",
      "661 : ʕ 662 : ʖ 663 : ʗ 664 : ʘ 665 : ʙ 666 : ʚ 667 : ʛ 668 : ʜ 669 : ʝ 670 : ʞ 1000\n",
      "671 : ʟ 672 : ʠ 673 : ʡ 674 : ʢ 675 : ʣ 676 : ʤ 677 : ʥ 678 : ʦ 679 : ʧ 680 : ʨ 1000\n",
      "681 : ʩ 682 : ʪ 683 : ʫ 684 : ʬ 685 : ʭ 686 : ʮ 687 : ʯ 688 : ʰ 689 : ʱ 690 : ʲ 1000\n",
      "691 : ʳ 692 : ʴ 693 : ʵ 694 : ʶ 695 : ʷ 696 : ʸ 697 : ʹ 698 : ʺ 699 : ʻ 700 : ʼ 1000\n",
      "701 : ʽ 702 : ʾ 703 : ʿ 704 : ˀ 705 : ˁ 706 : ˂ 707 : ˃ 708 : ˄ 709 : ˅ 710 : ˆ 1000\n",
      "711 : ˇ 712 : ˈ 713 : ˉ 714 : ˊ 715 : ˋ 716 : ˌ 717 : ˍ 718 : ˎ 719 : ˏ 720 : ː 1000\n",
      "721 : ˑ 722 : ˒ 723 : ˓ 724 : ˔ 725 : ˕ 726 : ˖ 727 : ˗ 728 : ˘ 729 : ˙ 730 : ˚ 1000\n",
      "731 : ˛ 732 : ˜ 733 : ˝ 734 : ˞ 735 : ˟ 736 : ˠ 737 : ˡ 738 : ˢ 739 : ˣ 740 : ˤ 1000\n",
      "741 : ˥ 742 : ˦ 743 : ˧ 744 : ˨ 745 : ˩ 746 : ˪ 747 : ˫ 748 : ˬ 749 : ˭ 750 : ˮ 1000\n",
      "751 : ˯ 752 : ˰ 753 : ˱ 754 : ˲ 755 : ˳ 756 : ˴ 757 : ˵ 758 : ˶ 759 : ˷ 760 : ˸ 1000\n",
      "761 : ˹ 762 : ˺ 763 : ˻ 764 : ˼ 765 : ˽ 766 : ˾ 767 : ˿ 768 : ̀ 769 : ́ 770 : ̂ 1000\n",
      "771 : ̃ 772 : ̄ 773 : ̅ 774 : ̆ 775 : ̇ 776 : ̈ 777 : ̉ 778 : ̊ 779 : ̋ 780 : ̌ 1000\n",
      "781 : ̍ 782 : ̎ 783 : ̏ 784 : ̐ 785 : ̑ 786 : ̒ 787 : ̓ 788 : ̔ 789 : ̕ 790 : ̖ 1000\n",
      "791 : ̗ 792 : ̘ 793 : ̙ 794 : ̚ 795 : ̛ 796 : ̜ 797 : ̝ 798 : ̞ 799 : ̟ 800 : ̠ 1000\n",
      "801 : ̡ 802 : ̢ 803 : ̣ 804 : ̤ 805 : ̥ 806 : ̦ 807 : ̧ 808 : ̨ 809 : ̩ 810 : ̪ 1000\n",
      "811 : ̫ 812 : ̬ 813 : ̭ 814 : ̮ 815 : ̯ 816 : ̰ 817 : ̱ 818 : ̲ 819 : ̳ 820 : ̴ 1000\n",
      "821 : ̵ 822 : ̶ 823 : ̷ 824 : ̸ 825 : ̹ 826 : ̺ 827 : ̻ 828 : ̼ 829 : ̽ 830 : ̾ 1000\n",
      "831 : ̿ 832 : ̀ 833 : ́ 834 : ͂ 835 : ̓ 836 : ̈́ 837 : ͅ 838 : ͆ 839 : ͇ 840 : ͈ 1000\n",
      "841 : ͉ 842 : ͊ 843 : ͋ 844 : ͌ 845 : ͍ 846 : ͎ 847 : ͏ 848 : ͐ 849 : ͑ 850 : ͒ 1000\n",
      "851 : ͓ 852 : ͔ 853 : ͕ 854 : ͖ 855 : ͗ 856 : ͘ 857 : ͙ 858 : ͚ 859 : ͛ 860 : ͜ 1000\n",
      "861 : ͝ 862 : ͞ 863 : ͟ 864 : ͠ 865 : ͡ 866 : ͢ 867 : ͣ 868 : ͤ 869 : ͥ 870 : ͦ 1000\n",
      "871 : ͧ 872 : ͨ 873 : ͩ 874 : ͪ 875 : ͫ 876 : ͬ 877 : ͭ 878 : ͮ 879 : ͯ 880 : Ͱ 1000\n",
      "881 : ͱ 882 : Ͳ 883 : ͳ 884 : ʹ 885 : ͵ 886 : Ͷ 887 : ͷ 888 : ͸ 889 : ͹ 890 : ͺ 1000\n",
      "891 : ͻ 892 : ͼ 893 : ͽ 894 : ; 895 : Ϳ 896 : ΀ 897 : ΁ 898 : ΂ 899 : ΃ 900 : ΄ 1000\n",
      "901 : ΅ 902 : Ά 903 : · 904 : Έ 905 : Ή 906 : Ί 907 : ΋ 908 : Ό 909 : ΍ 910 : Ύ 1000\n",
      "911 : Ώ 912 : ΐ 913 : Α 914 : Β 915 : Γ 916 : Δ 917 : Ε 918 : Ζ 919 : Η 920 : Θ 1000\n",
      "921 : Ι 922 : Κ 923 : Λ 924 : Μ 925 : Ν 926 : Ξ 927 : Ο 928 : Π 929 : Ρ 930 : ΢ 1000\n",
      "931 : Σ 932 : Τ 933 : Υ 934 : Φ 935 : Χ 936 : Ψ 937 : Ω 938 : Ϊ 939 : Ϋ 940 : ά 1000\n",
      "941 : έ 942 : ή 943 : ί 944 : ΰ 945 : α 946 : β 947 : γ 948 : δ 949 : ε 950 : ζ 1000\n",
      "951 : η 952 : θ 953 : ι 954 : κ 955 : λ 956 : μ 957 : ν 958 : ξ 959 : ο 960 : π 1000\n",
      "961 : ρ 962 : ς 963 : σ 964 : τ 965 : υ 966 : φ 967 : χ 968 : ψ 969 : ω 970 : ϊ 1000\n",
      "971 : ϋ 972 : ό 973 : ύ 974 : ώ 975 : Ϗ 976 : ϐ 977 : ϑ 978 : ϒ 979 : ϓ 980 : ϔ 1000\n",
      "981 : ϕ 982 : ϖ 983 : ϗ 984 : Ϙ 985 : ϙ 986 : Ϛ 987 : ϛ 988 : Ϝ 989 : ϝ 990 : Ϟ 1000\n",
      "991 : ϟ 992 : Ϡ 993 : ϡ 994 : Ϣ 995 : ϣ 996 : Ϥ 997 : ϥ 998 : Ϧ 999 : ϧ "
     ]
    }
   ],
   "source": [
    "for i in range(1000):\n",
    "    print(f\"{i} : {chr(i)}\",end=' ')\n",
    "    if i % 10 == 0:\n",
    "        print(1000)"
   ]
  },
  {
   "cell_type": "code",
   "execution_count": 9,
   "metadata": {},
   "outputs": [
    {
     "name": "stdout",
     "output_type": "stream",
     "text": [
      "0 : \u0000 123\n",
      "1 : \u0001 2 : \u0002 3 : \u0003 4 : \u0004 5 : \u0005 6 : \u0006 7 : \u0007 8 : 9 : \t 10 : \n",
      " 123\n",
      " 14 : \u000e 15 : \u000f 16 : \u0010 17 : \u0011 18 : \u0012 19 : \u0013 20 : \u0014 123\n",
      "21 : \u0015 22 : \u0016 23 : \u0017 24 : \u0018 25 : \u0019 26 : \u001a 27 : \u001b 28 : \u001c 29 : \u001d 30 : \u001e 123\n",
      "31 : \u001f 32 :   33 : ! 34 : \" 35 : # 36 : $ 37 : % 38 : & 39 : ' 40 : ( 123\n",
      "41 : ) 42 : * 43 : + 44 : , 45 : - 46 : . 47 : / 48 : 0 49 : 1 50 : 2 123\n",
      "51 : 3 52 : 4 53 : 5 54 : 6 55 : 7 56 : 8 57 : 9 58 : : 59 : ; 60 : < 123\n",
      "61 : = 62 : > 63 : ? 64 : @ 65 : A 66 : B 67 : C 68 : D 69 : E 70 : F 123\n",
      "71 : G 72 : H 73 : I 74 : J 75 : K 76 : L 77 : M 78 : N 79 : O 80 : P 123\n",
      "81 : Q 82 : R 83 : S 84 : T 85 : U 86 : V 87 : W 88 : X 89 : Y 90 : Z 123\n",
      "91 : [ 92 : \\ 93 : ] 94 : ^ 95 : _ 96 : ` 97 : a 98 : b 99 : c 100 : d 123\n",
      "101 : e 102 : f 103 : g 104 : h 105 : i 106 : j 107 : k 108 : l 109 : m 110 : n 123\n",
      "111 : o 112 : p 113 : q 114 : r 115 : s 116 : t 117 : u 118 : v 119 : w 120 : x 123\n",
      "121 : y 122 : z 123 : { 124 : | 125 : } 126 : ~ 127 :  128 :  129 :  130 :  123\n",
      "131 :  132 :  133 :  134 :  135 :  136 :  137 :  138 :  139 :  140 :  123\n",
      "141 :  142 :  143 :  144 :  145 :  146 :  147 :  148 :  149 :  150 :  123\n",
      "151 :  152 :  153 :  154 :  155 :  156 :  157 :  158 :  159 :  160 :   123\n",
      "161 : ¡ 162 : ¢ 163 : £ 164 : ¤ 165 : ¥ 166 : ¦ 167 : § 168 : ¨ 169 : © 170 : ª 123\n",
      "171 : « 172 : ¬ 173 : ­ 174 : ® 175 : ¯ 176 : ° 177 : ± 178 : ² 179 : ³ 180 : ´ 123\n",
      "181 : µ 182 : ¶ 183 : · 184 : ¸ 185 : ¹ 186 : º 187 : » 188 : ¼ 189 : ½ 190 : ¾ 123\n",
      "191 : ¿ 192 : À 193 : Á 194 : Â 195 : Ã 196 : Ä 197 : Å 198 : Æ 199 : Ç 200 : È 123\n",
      "201 : É 202 : Ê 203 : Ë 204 : Ì 205 : Í 206 : Î 207 : Ï 208 : Ð 209 : Ñ 210 : Ò 123\n",
      "211 : Ó 212 : Ô 213 : Õ 214 : Ö 215 : × 216 : Ø 217 : Ù 218 : Ú 219 : Û 220 : Ü 123\n",
      "221 : Ý 222 : Þ 223 : ß 224 : à 225 : á 226 : â 227 : ã 228 : ä 229 : å 230 : æ 123\n",
      "231 : ç 232 : è 233 : é 234 : ê 235 : ë 236 : ì 237 : í 238 : î 239 : ï 240 : ð 123\n",
      "241 : ñ 242 : ò 243 : ó 244 : ô 245 : õ 246 : ö 247 : ÷ 248 : ø 249 : ù 250 : ú 123\n",
      "251 : û 252 : ü 253 : ý 254 : þ 255 : ÿ "
     ]
    }
   ],
   "source": [
    "for i in range(256):\n",
    "    print(f\"{i} : {chr(i)}\",end=' ')\n",
    "    if i% 10== 0:\n",
    "        print(123)"
   ]
  },
  {
   "cell_type": "code",
   "execution_count": 13,
   "metadata": {},
   "outputs": [
    {
     "data": {
      "text/plain": [
       "'犑'"
      ]
     },
     "execution_count": 13,
     "metadata": {},
     "output_type": "execute_result"
    }
   ],
   "source": [
    "chr(29329)"
   ]
  },
  {
   "cell_type": "code",
   "execution_count": 3,
   "metadata": {},
   "outputs": [
    {
     "name": "stdout",
     "output_type": "stream",
     "text": [
      "7\n",
      "5\n",
      "4\n"
     ]
    }
   ],
   "source": [
    "print(len(\"amazing\"))\n",
    "print(len(\"world\"))\n",
    "size = len(\"hope\")\n",
    "print(size)"
   ]
  },
  {
   "cell_type": "code",
   "execution_count": 5,
   "metadata": {},
   "outputs": [],
   "source": [
    "name = \"pratima\""
   ]
  },
  {
   "cell_type": "code",
   "execution_count": 14,
   "metadata": {},
   "outputs": [
    {
     "data": {
      "text/plain": [
       "'Pratima'"
      ]
     },
     "execution_count": 14,
     "metadata": {},
     "output_type": "execute_result"
    }
   ],
   "source": [
    "name[:]# 0->end"
   ]
  },
  {
   "cell_type": "code",
   "execution_count": 6,
   "metadata": {},
   "outputs": [
    {
     "data": {
      "text/plain": [
       "'amitarp'"
      ]
     },
     "execution_count": 6,
     "metadata": {},
     "output_type": "execute_result"
    }
   ],
   "source": [
    "name[:: -1]# revers"
   ]
  },
  {
   "cell_type": "code",
   "execution_count": 7,
   "metadata": {},
   "outputs": [
    {
     "data": {
      "text/plain": [
       "'paia'"
      ]
     },
     "execution_count": 7,
     "metadata": {},
     "output_type": "execute_result"
    }
   ],
   "source": [
    "name[:: 2]# even indexes value"
   ]
  },
  {
   "cell_type": "code",
   "execution_count": 8,
   "metadata": {},
   "outputs": [
    {
     "data": {
      "text/plain": [
       "'rtm'"
      ]
     },
     "execution_count": 8,
     "metadata": {},
     "output_type": "execute_result"
    }
   ],
   "source": [
    "name[1 :: 2]# odd indexes value"
   ]
  },
  {
   "cell_type": "code",
   "execution_count": 2,
   "metadata": {},
   "outputs": [],
   "source": [
    "w1 = 'wikinews'\n",
    "w2 = 'encylopedia'"
   ]
  },
  {
   "cell_type": "code",
   "execution_count": 4,
   "metadata": {},
   "outputs": [
    {
     "data": {
      "text/plain": [
       "'wikipedia'"
      ]
     },
     "execution_count": 4,
     "metadata": {},
     "output_type": "execute_result"
    }
   ],
   "source": [
    "w1[:4] + w2[-5:]\n"
   ]
  },
  {
   "cell_type": "code",
   "execution_count": 2,
   "metadata": {},
   "outputs": [],
   "source": [
    "quote = \"Life before death, Hope before despair,Journey before destintion\""
   ]
  },
  {
   "cell_type": "code",
   "execution_count": 3,
   "metadata": {},
   "outputs": [
    {
     "name": "stdout",
     "output_type": "stream",
     "text": [
      "thi________s is_____ st__________eel__heart\n"
     ]
    }
   ],
   "source": [
    "junk_str = \"thi!^#%!&#@s is!@*#& st!@#*!&@#(*eel{}heart\"\n",
    "punc = '~`!@#$%^&*()[]{};\":'\n",
    "for char in punc :\n",
    "    junk_str = junk_str.replace(char, '_')\n",
    "print(junk_str)\n"
   ]
  },
  {
   "cell_type": "markdown",
   "metadata": {},
   "source": [
    "REMOVE ALL'a' characters from the qoute"
   ]
  },
  {
   "cell_type": "code",
   "execution_count": 4,
   "metadata": {},
   "outputs": [
    {
     "data": {
      "text/plain": [
       "'Life before death, Hope before despair,Journey before destintion'"
      ]
     },
     "execution_count": 4,
     "metadata": {},
     "output_type": "execute_result"
    }
   ],
   "source": [
    "quote.replace('a,','')"
   ]
  },
  {
   "cell_type": "code",
   "execution_count": 5,
   "metadata": {},
   "outputs": [
    {
     "data": {
      "text/plain": [
       "'Life  death, Hope  despair,Journey  destintion'"
      ]
     },
     "execution_count": 5,
     "metadata": {},
     "output_type": "execute_result"
    }
   ],
   "source": [
    "quote.replace('before','')"
   ]
  },
  {
   "cell_type": "code",
   "execution_count": 6,
   "metadata": {},
   "outputs": [
    {
     "name": "stdout",
     "output_type": "stream",
     "text": [
      "original: Life before death, Hope before despair,Journey before destintion\n",
      "no vowels: Lf bfr dth, Hp bfr dspr,Jrny bfr dstntn\n"
     ]
    }
   ],
   "source": [
    "q = quote # copy the variable for the sake of humannity\n",
    "for vowel in \"aeiouAEIOU\":\n",
    "    q = q.replace(vowel,'')\n",
    "    \n",
    "print('original:', quote)\n",
    "print(\"no vowels:\",q)"
   ]
  },
  {
   "cell_type": "code",
   "execution_count": 7,
   "metadata": {},
   "outputs": [
    {
     "data": {
      "text/plain": [
       "12"
      ]
     },
     "execution_count": 7,
     "metadata": {},
     "output_type": "execute_result"
    }
   ],
   "source": [
    "quote.count('e')"
   ]
  },
  {
   "cell_type": "code",
   "execution_count": 8,
   "metadata": {},
   "outputs": [
    {
     "ename": "SyntaxError",
     "evalue": "invalid syntax (3590736266.py, line 3)",
     "output_type": "error",
     "traceback": [
      "\u001b[1;36m  Input \u001b[1;32mIn [8]\u001b[1;36m\u001b[0m\n\u001b[1;33m    for letter in ascii lowercase:\u001b[0m\n\u001b[1;37m                        ^\u001b[0m\n\u001b[1;31mSyntaxError\u001b[0m\u001b[1;31m:\u001b[0m invalid syntax\n"
     ]
    }
   ],
   "source": [
    "from string import ascii_lowercase\n",
    "\n",
    "for letter in ascii lowercase:\n",
    "    print (f\"{letter}->{lowercase letter} {count letter}\")"
   ]
  },
  {
   "cell_type": "code",
   "execution_count": null,
   "metadata": {},
   "outputs": [
    {
     "name": "stdout",
     "output_type": "stream",
     "text": [
      "a .-> . 2\n",
      "b .-> . 3\n",
      "d .-> . 3\n",
      "e .-> . 12\n",
      "f .-> . 4\n",
      "h .-> . 2\n",
      "i .-> . 4\n",
      "j .-> . 1\n",
      "l .-> . 1\n",
      "n .-> . 3\n",
      "o .-> . 6\n",
      "p .-> . 2\n",
      "r .-> . 5\n",
      "s .-> . 2\n",
      "t .-> . 3\n",
      "u .-> . 1\n",
      "y .-> . 1\n"
     ]
    }
   ],
   "source": [
    "from string import ascii_lowercase\n",
    "\n",
    "for letter in ascii_lowercase:\n",
    "    occurs = quote.lower().count(letter)\n",
    "    if occurs:\n",
    "        print(f\"{letter} .-> . {occurs}\")"
   ]
  },
  {
   "cell_type": "code",
   "execution_count": 9,
   "metadata": {},
   "outputs": [
    {
     "data": {
      "text/plain": [
       "['Life',\n",
       " 'before',\n",
       " 'death,',\n",
       " 'Hope',\n",
       " 'before',\n",
       " 'despair,Journey',\n",
       " 'before',\n",
       " 'destintion']"
      ]
     },
     "execution_count": 9,
     "metadata": {},
     "output_type": "execute_result"
    }
   ],
   "source": [
    "quote.split()"
   ]
  },
  {
   "cell_type": "code",
   "execution_count": 10,
   "metadata": {},
   "outputs": [
    {
     "name": "stdout",
     "output_type": "stream",
     "text": [
      "We have 8 words\n"
     ]
    }
   ],
   "source": [
    "words = quote.split()\n",
    "print(\"We have\",len (words),\"words\")"
   ]
  },
  {
   "cell_type": "code",
   "execution_count": 11,
   "metadata": {},
   "outputs": [
    {
     "data": {
      "text/plain": [
       "'Life before death, Hope before despair,Journey before destintion'"
      ]
     },
     "execution_count": 11,
     "metadata": {},
     "output_type": "execute_result"
    }
   ],
   "source": [
    "quote"
   ]
  },
  {
   "cell_type": "code",
   "execution_count": 12,
   "metadata": {},
   "outputs": [
    {
     "data": {
      "text/plain": [
       "'LIFE BEFORE DEATH, HOPE BEFORE DESPAIR,JOURNEY BEFORE DESTINTION'"
      ]
     },
     "execution_count": 12,
     "metadata": {},
     "output_type": "execute_result"
    }
   ],
   "source": [
    "quote.upper()"
   ]
  },
  {
   "cell_type": "code",
   "execution_count": 13,
   "metadata": {},
   "outputs": [],
   "source": [
    "qu = quote.upper()"
   ]
  },
  {
   "cell_type": "code",
   "execution_count": 15,
   "metadata": {},
   "outputs": [
    {
     "data": {
      "text/plain": [
       "'life before death, hope before despair,journey before destintion'"
      ]
     },
     "execution_count": 15,
     "metadata": {},
     "output_type": "execute_result"
    }
   ],
   "source": [
    "quote.lower()"
   ]
  },
  {
   "cell_type": "code",
   "execution_count": 16,
   "metadata": {},
   "outputs": [
    {
     "data": {
      "text/plain": [
       "'Life before death, Hope before despair,Journey before destintion'"
      ]
     },
     "execution_count": 16,
     "metadata": {},
     "output_type": "execute_result"
    }
   ],
   "source": [
    "quote"
   ]
  },
  {
   "cell_type": "code",
   "execution_count": 17,
   "metadata": {},
   "outputs": [
    {
     "data": {
      "text/plain": [
       "'Life Before Death, Hope Before Despair,Journey Before Destintion'"
      ]
     },
     "execution_count": 17,
     "metadata": {},
     "output_type": "execute_result"
    }
   ],
   "source": [
    "quote.title()"
   ]
  },
  {
   "cell_type": "code",
   "execution_count": 19,
   "metadata": {},
   "outputs": [
    {
     "data": {
      "text/plain": [
       "'lIFE BEFORE DEATH, hOPE BEFORE DESPAIR,jOURNEY BEFORE DESTINTION'"
      ]
     },
     "execution_count": 19,
     "metadata": {},
     "output_type": "execute_result"
    }
   ],
   "source": [
    "quote.swapcase()"
   ]
  },
  {
   "cell_type": "code",
   "execution_count": 14,
   "metadata": {},
   "outputs": [
    {
     "data": {
      "text/plain": [
       "['Life before death', ' Hope before despair', 'Journey before destintion']"
      ]
     },
     "execution_count": 14,
     "metadata": {},
     "output_type": "execute_result"
    }
   ],
   "source": [
    "quote.split(\",\")"
   ]
  },
  {
   "cell_type": "markdown",
   "metadata": {},
   "source": [
    "# wap to take user input and check the data, if the data is numeric , convert it to number else if the data is alphanumeric then extract only numbers and convert it"
   ]
  },
  {
   "cell_type": "code",
   "execution_count": 22,
   "metadata": {},
   "outputs": [
    {
     "name": "stdout",
     "output_type": "stream",
     "text": [
      "data converted to number: 123123\n"
     ]
    }
   ],
   "source": [
    "data = input(\"please, enter some data:\")\n",
    "if data.isnumeric():\n",
    "    num = int(data)\n",
    "    print(\"data converted to number:\",num)\n",
    "elif data.isalnum():\n",
    "    temp = ''\n",
    "    for char in data:\n",
    "        if char.isnueric():\n",
    "            temp += char\n",
    "    if temp:\n",
    "        num = int(temp)\n",
    "        print(\"data converted to number:\",num)\n",
    "    else:\n",
    "        print(\"your data dose not contain any numbers\")"
   ]
  },
  {
   "cell_type": "code",
   "execution_count": 1,
   "metadata": {},
   "outputs": [
    {
     "name": "stdout",
     "output_type": "stream",
     "text": [
      "Here is boring calculator menu\n",
      "1. Add number\n",
      "2. Substract number\n",
      "3. Multiply number\n",
      "Difference is: -1\n"
     ]
    }
   ],
   "source": [
    "print(\"Here is boring calculator menu\")\n",
    "print(\"1. Add number\")\n",
    "print(\"2. Substract number\")\n",
    "print(\"3. Multiply number\")\n",
    "ch = input(\"please, enter your choice:\")\n",
    "if ch =='1':\n",
    "    num1 = int(input(\"enter first number:\"))\n",
    "    num2 = int(input(\"enter second number:\"))\n",
    "    print(\"sum is:\",num1+num2)\n",
    "elif ch == '2':\n",
    "    num1 = int(input(\"enter first number:\"))\n",
    "    num2 = int(input(\"enter second number:\"))\n",
    "    print(\"Difference is:\",num1-num2)\n",
    "elif ch == '3':\n",
    "    num1 = int(input(\"enter first number:\"))\n",
    "    num2 = int(input(\"enter second number:\"))\n",
    "    print(\"product is:\",num1*num2)\n",
    "else:\n",
    "    print(\"invalid choice\")\n",
    "\n"
   ]
  },
  {
   "cell_type": "markdown",
   "metadata": {},
   "source": [
    "Wap a program a simple text menu based calculator for doing basic operation like addition ,substraction multiplication"
   ]
  },
  {
   "cell_type": "code",
   "execution_count": 2,
   "metadata": {},
   "outputs": [
    {
     "name": "stdout",
     "output_type": "stream",
     "text": [
      "+\n",
      "-\n",
      "*\n",
      "invalid input\n"
     ]
    }
   ],
   "source": [
    "# pythone program for simple text menu based calculator\n",
    "select = print(input(\"select operation form 1,2,3 :\"))\n",
    "num1 = print(input(\"enter first number : \"))\n",
    "num2 = print(input(\"enter second number : \"))\n",
    "if select == '1':\n",
    "    print(num1, \"+\" , num2, \"=\",add(num1,num2)) \n",
    "elif select == '2':\n",
    "    print(num1,\"-\",num2,\"=\",substract(num1,num2))\n",
    "elif select == '3':\n",
    "    print(num1,\"*\",num2,\"=\",multiply(num1,num2))\n",
    "else:\n",
    "    print(\"invalid input\")\n",
    "\n",
    "\n",
    "\n",
    "\n"
   ]
  },
  {
   "cell_type": "markdown",
   "metadata": {},
   "source": [
    "String is immutable"
   ]
  },
  {
   "cell_type": "code",
   "execution_count": null,
   "metadata": {},
   "outputs": [],
   "source": [
    "name = 'Adoline'"
   ]
  },
  {
   "cell_type": "code",
   "execution_count": null,
   "metadata": {},
   "outputs": [],
   "source": []
  },
  {
   "cell_type": "code",
   "execution_count": null,
   "metadata": {},
   "outputs": [],
   "source": []
  }
 ],
 "metadata": {
  "interpreter": {
   "hash": "3835b9ad7576081e253dd69f6e27ec7e1067bee4461adb44e2756f508db331d5"
  },
  "kernelspec": {
   "display_name": "Python 3.9.7",
   "language": "python",
   "name": "python3"
  },
  "language_info": {
   "codemirror_mode": {
    "name": "ipython",
    "version": 3
   },
   "file_extension": ".py",
   "mimetype": "text/x-python",
   "name": "python",
   "nbconvert_exporter": "python",
   "pygments_lexer": "ipython3",
   "version": "3.9.7"
  },
  "orig_nbformat": 4
 },
 "nbformat": 4,
 "nbformat_minor": 2
}
